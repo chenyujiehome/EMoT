{
 "cells": [
  {
   "cell_type": "code",
   "execution_count": 1,
   "metadata": {},
   "outputs": [
    {
     "name": "stdout",
     "output_type": "stream",
     "text": [
      "               ID\n",
      "0  BDMAP_00015159\n",
      "1  BDMAP_00015375\n",
      "2  BDMAP_00015378\n",
      "3  BDMAP_00015298\n",
      "4  BDMAP_00015049\n"
     ]
    }
   ],
   "source": [
    "import pandas as pd\n",
    "from sklearn.model_selection import train_test_split, KFold\n",
    "\n",
    "# 步骤1: 读取文本文件到DataFrame\n",
    "file_path = '/home/chen/SuPreM/target_applications/ImageCAS/dataset/ImageCAS_ID.txt'\n",
    "df = pd.read_csv(file_path, header=None, names=['ID'])\n",
    "\n",
    "df = df.sample(frac=1, random_state=42).reset_index(drop=True)\n",
    "print(df.head())"
   ]
  },
  {
   "cell_type": "code",
   "execution_count": 2,
   "metadata": {},
   "outputs": [
    {
     "name": "stdout",
     "output_type": "stream",
     "text": [
      "Train size: 666, Test size: 167, Validation size: 167\n"
     ]
    }
   ],
   "source": [
    "# 步骤2: 将DataFrame划分为训练集、测试集和验证集，比例为4:1:1\n",
    "train_test, val = train_test_split(df, test_size=1/6, random_state=42)\n",
    "train, test = train_test_split(train_test, test_size=1/5, random_state=42)  # 从剩余的5份中再划分1份为验证集\n",
    "\n",
    "# 显示划分后各部分的大小\n",
    "print(f\"Train size: {len(train)}, Test size: {len(test)}, Validation size: {len(val)}\")"
   ]
  },
  {
   "cell_type": "code",
   "execution_count": 3,
   "metadata": {},
   "outputs": [],
   "source": [
    "from sklearn.model_selection import KFold\n",
    "\n",
    "# 假设df是包含ID列的DataFrame\n",
    "kf = KFold(n_splits=5, shuffle=True, random_state=42)\n",
    "\n",
    "# 对于每一折，保存训练集和测试集的ID值\n",
    "for fold, (train_index, test_index) in enumerate(kf.split(train_test), 1):\n",
    "    # 保存训练集ID值\n",
    "    train_ids = df.iloc[train_index]['ID'].values\n",
    "    with open(f'train_{fold}.txt', 'w') as f:\n",
    "        for id in train_ids:\n",
    "            f.write(f\"{id}\\t\\n\")\n",
    "    \n",
    "    # 保存测试集ID值\n",
    "    test_ids = df.iloc[test_index]['ID'].values\n",
    "    with open(f'test_{fold}.txt', 'w') as f:\n",
    "        for id in test_ids:\n",
    "            f.write(f\"{id}\\t\\n\")\n",
    "\n",
    "# 保存独立的验证集ID值到val.txt\n",
    "val_ids = val['ID'].values\n",
    "with open('val.txt', 'w') as f:\n",
    "    for id in val_ids:\n",
    "        f.write(f\"{id}\\t\\n\")"
   ]
  }
 ],
 "metadata": {
  "kernelspec": {
   "display_name": "sup",
   "language": "python",
   "name": "python3"
  },
  "language_info": {
   "codemirror_mode": {
    "name": "ipython",
    "version": 3
   },
   "file_extension": ".py",
   "mimetype": "text/x-python",
   "name": "python",
   "nbconvert_exporter": "python",
   "pygments_lexer": "ipython3",
   "version": "3.10.14"
  }
 },
 "nbformat": 4,
 "nbformat_minor": 2
}
