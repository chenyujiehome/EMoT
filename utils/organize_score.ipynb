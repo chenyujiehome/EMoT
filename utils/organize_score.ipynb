{
 "cells": [
  {
   "cell_type": "markdown",
   "metadata": {},
   "source": [
    "Load data"
   ]
  },
  {
   "cell_type": "code",
   "execution_count": 53,
   "metadata": {},
   "outputs": [
    {
     "name": "stderr",
     "output_type": "stream",
     "text": [
      "/tmp/ipykernel_72782/2094673530.py:46: FutureWarning: The behavior of DataFrame concatenation with empty or all-NA entries is deprecated. In a future version, this will no longer exclude empty or all-NA columns when determining the result dtypes. To retain the old behavior, exclude the relevant entries before the concat operation.\n",
      "  df = pd.concat([df, new_rows_df], ignore_index=True)\n"
     ]
    },
    {
     "name": "stdout",
     "output_type": "stream",
     "text": [
      "  pretraining_method       arch target_task fold score_type     score  \\\n",
      "0             suprem  segresnet   vertebrae    1       dice       NaN   \n",
      "1             suprem  segresnet   vertebrae    1       dice       NaN   \n",
      "2             suprem  segresnet   vertebrae    1       dice       NaN   \n",
      "3             suprem  segresnet   vertebrae    1       dice       NaN   \n",
      "4             suprem  segresnet   vertebrae    1       dice  0.160671   \n",
      "\n",
      "  patient_name     part_name  \n",
      "0        s0322  vertebrae_L5  \n",
      "1        s0322  vertebrae_L4  \n",
      "2        s0322  vertebrae_L3  \n",
      "3        s0322  vertebrae_L2  \n",
      "4        s0322  vertebrae_L1  \n"
     ]
    }
   ],
   "source": [
    "import pandas as pd\n",
    "import os\n",
    "\n",
    "# Define the base directory where the files are located\n",
    "base_dir = '/home/chen/out'\n",
    "\n",
    "# Initialize an empty DataFrame with the specified columns\n",
    "columns = ['pretraining_method', 'arch', 'target_task', 'fold', 'score_type', 'score']\n",
    "df = pd.DataFrame(columns=columns)\n",
    "\n",
    "# Function to extract information from the file path and name\n",
    "def extract_info_from_path(file_path):\n",
    "    parts = file_path.split(os.sep)\n",
    "    folder_name = parts[-2]  # Get the folder name which contains the csv file\n",
    "    pretraining_method, arch, target_task,fold = folder_name.split('.')\n",
    "    fold=int(fold[4:])\n",
    "    score_type = os.path.basename(file_path).split('_')[-3]  # Extract 'dice' or 'nsd' from the filename\n",
    "    return pretraining_method, arch, target_task, fold, score_type\n",
    "\n",
    "# Function to process each CSV file and append its data to the DataFrame\n",
    "def process_csv_file(file_path):\n",
    "    global df  # Use the DataFrame defined outside the function\n",
    "    pretraining_method, arch, target_task, fold, score_type = extract_info_from_path(file_path)\n",
    "    temp_df = pd.read_csv(file_path)\n",
    "    new_rows = [] \n",
    "    for index, row in temp_df.iterrows():\n",
    "        for column in temp_df.columns[2:]:\n",
    "            score = row[column]  # Get the score from the current column\n",
    "            patient_name = row['name']  # Assuming 'name' column exists and contains patient names\n",
    "            part_name = column  # The current column name is the part name\n",
    "            # Create a new dictionary for the row to be added\n",
    "            new_row = {\n",
    "                'pretraining_method': pretraining_method,\n",
    "                'arch': arch,\n",
    "                'target_task': target_task,\n",
    "                'fold': fold,\n",
    "                'score_type': score_type,\n",
    "                'score': score,\n",
    "                'patient_name': patient_name,  # Added patient_name\n",
    "                'part_name': part_name  # Added part_name\n",
    "            }\n",
    "            # Append the new row dictionary to the list of new rows\n",
    "            new_rows.append(new_row)\n",
    "        # Convert the list of new rows into a DataFrame and concatenate it with the existing DataFrame\n",
    "    new_rows_df = pd.DataFrame(new_rows)\n",
    "    df = pd.concat([df, new_rows_df], ignore_index=True)\n",
    "\n",
    "# Walk through the directory and process each CSV file\n",
    "for root, dirs, files in os.walk(base_dir):\n",
    "    for file in files:\n",
    "        if file.endswith('.csv'):\n",
    "            file_path = os.path.join(root, file)\n",
    "            process_csv_file(file_path)\n",
    "\n",
    "# Now df contains all the data from the CSV files\n",
    "print(df.head())  # Display the first few rows of the DataFrame"
   ]
  },
  {
   "cell_type": "code",
   "execution_count": 54,
   "metadata": {},
   "outputs": [
    {
     "name": "stdout",
     "output_type": "stream",
     "text": [
      "(375680, 8)\n",
      "(226220, 8)\n"
     ]
    }
   ],
   "source": [
    "print(df.shape)\n",
    "df.dropna(inplace=True)\n",
    "print(df.shape)"
   ]
  },
  {
   "cell_type": "markdown",
   "metadata": {},
   "source": [
    "Variance of score"
   ]
  },
  {
   "cell_type": "code",
   "execution_count": 55,
   "metadata": {},
   "outputs": [],
   "source": [
    "fold_scores = df.groupby(['pretraining_method', 'arch', 'target_task', 'score_type',\"fold\"])['score'].mean().reset_index()\n",
    "# fold_scores"
   ]
  },
  {
   "cell_type": "code",
   "execution_count": 56,
   "metadata": {},
   "outputs": [],
   "source": [
    "std_scores=df.groupby(['pretraining_method', 'arch', 'target_task', 'score_type'])['score'].std().reset_index()\n",
    "std_scores['score'] = std_scores['score'].mul(100).round(1)\n",
    "# std_scores"
   ]
  },
  {
   "cell_type": "code",
   "execution_count": 57,
   "metadata": {},
   "outputs": [
    {
     "data": {
      "text/html": [
       "<div>\n",
       "<style scoped>\n",
       "    .dataframe tbody tr th:only-of-type {\n",
       "        vertical-align: middle;\n",
       "    }\n",
       "\n",
       "    .dataframe tbody tr th {\n",
       "        vertical-align: top;\n",
       "    }\n",
       "\n",
       "    .dataframe thead th {\n",
       "        text-align: right;\n",
       "    }\n",
       "</style>\n",
       "<table border=\"1\" class=\"dataframe\">\n",
       "  <thead>\n",
       "    <tr style=\"text-align: right;\">\n",
       "      <th></th>\n",
       "      <th>pretraining_method</th>\n",
       "      <th>arch</th>\n",
       "      <th>target_task</th>\n",
       "      <th>score_type</th>\n",
       "      <th>score</th>\n",
       "    </tr>\n",
       "  </thead>\n",
       "  <tbody>\n",
       "    <tr>\n",
       "      <th>0</th>\n",
       "      <td>scratch</td>\n",
       "      <td>segresnet</td>\n",
       "      <td>cardiac</td>\n",
       "      <td>dice</td>\n",
       "      <td>13.4</td>\n",
       "    </tr>\n",
       "    <tr>\n",
       "      <th>2</th>\n",
       "      <td>scratch</td>\n",
       "      <td>segresnet</td>\n",
       "      <td>muscles</td>\n",
       "      <td>dice</td>\n",
       "      <td>11.9</td>\n",
       "    </tr>\n",
       "    <tr>\n",
       "      <th>4</th>\n",
       "      <td>scratch</td>\n",
       "      <td>segresnet</td>\n",
       "      <td>organs</td>\n",
       "      <td>dice</td>\n",
       "      <td>17.4</td>\n",
       "    </tr>\n",
       "    <tr>\n",
       "      <th>6</th>\n",
       "      <td>scratch</td>\n",
       "      <td>segresnet</td>\n",
       "      <td>vertebrae</td>\n",
       "      <td>dice</td>\n",
       "      <td>22.9</td>\n",
       "    </tr>\n",
       "    <tr>\n",
       "      <th>8</th>\n",
       "      <td>suprem</td>\n",
       "      <td>segresnet</td>\n",
       "      <td>cardiac</td>\n",
       "      <td>dice</td>\n",
       "      <td>14.1</td>\n",
       "    </tr>\n",
       "    <tr>\n",
       "      <th>10</th>\n",
       "      <td>suprem</td>\n",
       "      <td>segresnet</td>\n",
       "      <td>muscles</td>\n",
       "      <td>dice</td>\n",
       "      <td>11.4</td>\n",
       "    </tr>\n",
       "    <tr>\n",
       "      <th>12</th>\n",
       "      <td>suprem</td>\n",
       "      <td>segresnet</td>\n",
       "      <td>organs</td>\n",
       "      <td>dice</td>\n",
       "      <td>17.8</td>\n",
       "    </tr>\n",
       "    <tr>\n",
       "      <th>14</th>\n",
       "      <td>suprem</td>\n",
       "      <td>segresnet</td>\n",
       "      <td>vertebrae</td>\n",
       "      <td>dice</td>\n",
       "      <td>22.2</td>\n",
       "    </tr>\n",
       "  </tbody>\n",
       "</table>\n",
       "</div>"
      ],
      "text/plain": [
       "   pretraining_method       arch target_task score_type  score\n",
       "0             scratch  segresnet     cardiac       dice   13.4\n",
       "2             scratch  segresnet     muscles       dice   11.9\n",
       "4             scratch  segresnet      organs       dice   17.4\n",
       "6             scratch  segresnet   vertebrae       dice   22.9\n",
       "8              suprem  segresnet     cardiac       dice   14.1\n",
       "10             suprem  segresnet     muscles       dice   11.4\n",
       "12             suprem  segresnet      organs       dice   17.8\n",
       "14             suprem  segresnet   vertebrae       dice   22.2"
      ]
     },
     "execution_count": 57,
     "metadata": {},
     "output_type": "execute_result"
    }
   ],
   "source": [
    "dice_std=std_scores[std_scores['score_type']=='dice']\n",
    "dice_std"
   ]
  },
  {
   "cell_type": "markdown",
   "metadata": {},
   "source": [
    "Average of score"
   ]
  },
  {
   "cell_type": "code",
   "execution_count": 58,
   "metadata": {},
   "outputs": [],
   "source": [
    "average_scores = df.groupby(['pretraining_method', 'arch', 'target_task', 'score_type'])['score'].mean().reset_index()\n",
    "# average_scores"
   ]
  },
  {
   "cell_type": "code",
   "execution_count": 59,
   "metadata": {},
   "outputs": [],
   "source": [
    "average_scores['score'] = average_scores['score'].mul(100).round(1)\n"
   ]
  },
  {
   "cell_type": "code",
   "execution_count": 60,
   "metadata": {},
   "outputs": [
    {
     "data": {
      "text/html": [
       "<div>\n",
       "<style scoped>\n",
       "    .dataframe tbody tr th:only-of-type {\n",
       "        vertical-align: middle;\n",
       "    }\n",
       "\n",
       "    .dataframe tbody tr th {\n",
       "        vertical-align: top;\n",
       "    }\n",
       "\n",
       "    .dataframe thead th {\n",
       "        text-align: right;\n",
       "    }\n",
       "</style>\n",
       "<table border=\"1\" class=\"dataframe\">\n",
       "  <thead>\n",
       "    <tr style=\"text-align: right;\">\n",
       "      <th></th>\n",
       "      <th>pretraining_method</th>\n",
       "      <th>arch</th>\n",
       "      <th>target_task</th>\n",
       "      <th>score_type</th>\n",
       "      <th>score</th>\n",
       "    </tr>\n",
       "  </thead>\n",
       "  <tbody>\n",
       "    <tr>\n",
       "      <th>0</th>\n",
       "      <td>scratch</td>\n",
       "      <td>segresnet</td>\n",
       "      <td>cardiac</td>\n",
       "      <td>dice</td>\n",
       "      <td>88.7</td>\n",
       "    </tr>\n",
       "    <tr>\n",
       "      <th>2</th>\n",
       "      <td>scratch</td>\n",
       "      <td>segresnet</td>\n",
       "      <td>muscles</td>\n",
       "      <td>dice</td>\n",
       "      <td>93.5</td>\n",
       "    </tr>\n",
       "    <tr>\n",
       "      <th>4</th>\n",
       "      <td>scratch</td>\n",
       "      <td>segresnet</td>\n",
       "      <td>organs</td>\n",
       "      <td>dice</td>\n",
       "      <td>89.1</td>\n",
       "    </tr>\n",
       "    <tr>\n",
       "      <th>6</th>\n",
       "      <td>scratch</td>\n",
       "      <td>segresnet</td>\n",
       "      <td>vertebrae</td>\n",
       "      <td>dice</td>\n",
       "      <td>85.0</td>\n",
       "    </tr>\n",
       "    <tr>\n",
       "      <th>8</th>\n",
       "      <td>suprem</td>\n",
       "      <td>segresnet</td>\n",
       "      <td>cardiac</td>\n",
       "      <td>dice</td>\n",
       "      <td>89.0</td>\n",
       "    </tr>\n",
       "    <tr>\n",
       "      <th>10</th>\n",
       "      <td>suprem</td>\n",
       "      <td>segresnet</td>\n",
       "      <td>muscles</td>\n",
       "      <td>dice</td>\n",
       "      <td>94.0</td>\n",
       "    </tr>\n",
       "    <tr>\n",
       "      <th>12</th>\n",
       "      <td>suprem</td>\n",
       "      <td>segresnet</td>\n",
       "      <td>organs</td>\n",
       "      <td>dice</td>\n",
       "      <td>89.5</td>\n",
       "    </tr>\n",
       "    <tr>\n",
       "      <th>14</th>\n",
       "      <td>suprem</td>\n",
       "      <td>segresnet</td>\n",
       "      <td>vertebrae</td>\n",
       "      <td>dice</td>\n",
       "      <td>86.5</td>\n",
       "    </tr>\n",
       "  </tbody>\n",
       "</table>\n",
       "</div>"
      ],
      "text/plain": [
       "   pretraining_method       arch target_task score_type  score\n",
       "0             scratch  segresnet     cardiac       dice   88.7\n",
       "2             scratch  segresnet     muscles       dice   93.5\n",
       "4             scratch  segresnet      organs       dice   89.1\n",
       "6             scratch  segresnet   vertebrae       dice   85.0\n",
       "8              suprem  segresnet     cardiac       dice   89.0\n",
       "10             suprem  segresnet     muscles       dice   94.0\n",
       "12             suprem  segresnet      organs       dice   89.5\n",
       "14             suprem  segresnet   vertebrae       dice   86.5"
      ]
     },
     "execution_count": 60,
     "metadata": {},
     "output_type": "execute_result"
    }
   ],
   "source": [
    "dice_scores = average_scores[average_scores['score_type'] == \"dice\"]\n",
    "dice_scores"
   ]
  }
 ],
 "metadata": {
  "kernelspec": {
   "display_name": "sup",
   "language": "python",
   "name": "python3"
  },
  "language_info": {
   "codemirror_mode": {
    "name": "ipython",
    "version": 3
   },
   "file_extension": ".py",
   "mimetype": "text/x-python",
   "name": "python",
   "nbconvert_exporter": "python",
   "pygments_lexer": "ipython3",
   "version": "3.10.14"
  }
 },
 "nbformat": 4,
 "nbformat_minor": 2
}
