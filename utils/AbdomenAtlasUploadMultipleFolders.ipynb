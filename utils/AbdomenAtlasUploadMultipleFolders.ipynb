{
 "cells": [
  {
   "cell_type": "markdown",
   "id": "fc2ac3b4",
   "metadata": {},
   "source": [
    "### This code uploads all contents of a folder to a repository in hugging face. If your folder has hundreds of files, expect upload failures (and many of them). In case of failures, just wait a bit and run this code again. Repeat until the code executes without failing. We upload by parts (n files per commit), because uploading everything at once can be difficult."
   ]
  },
  {
   "cell_type": "code",
   "execution_count": 1,
   "id": "80c94ace",
   "metadata": {},
   "outputs": [],
   "source": [
    "#Change below:\n",
    "folder=\"AbdomenAtlas/AbdomenAtlasMini1.0\"#path on your computer\n",
    "repository=\"AbdomenAtlas/AbdomenAtlas_1.0_Mini\"#Hugging face repository\n",
    "repository_type=\"dataset\" #dataset, model or space\n",
    "n=100#number of files per commit"
   ]
  },
  {
   "cell_type": "code",
   "execution_count": 1,
   "id": "351dd463",
   "metadata": {},
   "outputs": [
    {
     "data": {
      "application/vnd.jupyter.widget-view+json": {
       "model_id": "3d527cd93b7e462a9782175c87398dd2",
       "version_major": 2,
       "version_minor": 0
      },
      "text/plain": [
       "VBox(children=(HTML(value='<center> <img\\nsrc=https://huggingface.co/front/assets/huggingface_logo-noborder.sv…"
      ]
     },
     "metadata": {},
     "output_type": "display_data"
    }
   ],
   "source": [
    "#login if needed\n",
    "from huggingface_hub import notebook_login\n",
    "notebook_login()"
   ]
  },
  {
   "cell_type": "code",
   "execution_count": null,
   "id": "828faffd",
   "metadata": {},
   "outputs": [],
   "source": [
    "import torch\n",
    "import huggingface_hub\n",
    "from pathlib import Path\n",
    "from huggingface_hub import HfApi, CommitOperationAdd"
   ]
  },
  {
   "cell_type": "code",
   "execution_count": 3,
   "id": "25bac4b2",
   "metadata": {},
   "outputs": [],
   "source": [
    "def get_all_files(root: Path):\n",
    "    dirs = [root]\n",
    "    while len(dirs) > 0:\n",
    "        dir = dirs.pop()\n",
    "        for candidate in dir.iterdir():\n",
    "            if candidate.is_file():\n",
    "                yield candidate\n",
    "            if candidate.is_dir():\n",
    "                dirs.append(candidate)\n",
    "\n",
    "def get_groups_of_n(n: int, iterator):\n",
    "    assert n > 1\n",
    "    buffer = []\n",
    "    for elt in iterator:\n",
    "        if len(buffer) == n:\n",
    "            yield buffer\n",
    "            buffer = []\n",
    "        buffer.append(elt)\n",
    "    if len(buffer) != 0:\n",
    "        yield buffer\n"
   ]
  },
  {
   "cell_type": "code",
   "execution_count": 5,
   "id": "18f35eb7",
   "metadata": {
    "scrolled": true
   },
   "outputs": [
    {
     "name": "stdout",
     "output_type": "stream",
     "text": [
      "Committing 519\n"
     ]
    }
   ],
   "source": [
    "api = HfApi()\n",
    "root = Path(folder)\n",
    "\n",
    "try:\n",
    "    counter=torch.load('counter.pt')\n",
    "except:\n",
    "    counter=0\n",
    "#counter=0\n",
    "\n",
    "for i, file_paths in enumerate(get_groups_of_n(n, get_all_files(root))):\n",
    "    if i<counter:\n",
    "        continue\n",
    "    print(f\"Committing {i}\")\n",
    "    operations = [\n",
    "        CommitOperationAdd(path_in_repo='/'.join(str(file_path).split('/')[2:]), \n",
    "                           path_or_fileobj=str(file_path))\n",
    "        for file_path in file_paths\n",
    "    ]\n",
    "    api.create_commit(\n",
    "        repo_id=repository,\n",
    "        operations=operations,\n",
    "        commit_message=f\"Upload part {i}\",\n",
    "        repo_type=repository_type\n",
    "    )\n",
    "    torch.save(i,'counter.pt')\n"
   ]
  },
  {
   "cell_type": "code",
   "execution_count": null,
   "id": "8de05acb",
   "metadata": {},
   "outputs": [],
   "source": []
  }
 ],
 "metadata": {
  "kernelspec": {
   "display_name": "Python [conda env:lightningHF]",
   "language": "python",
   "name": "conda-env-lightningHF-py"
  },
  "language_info": {
   "codemirror_mode": {
    "name": "ipython",
    "version": 3
   },
   "file_extension": ".py",
   "mimetype": "text/x-python",
   "name": "python",
   "nbconvert_exporter": "python",
   "pygments_lexer": "ipython3",
   "version": "3.9.12"
  }
 },
 "nbformat": 4,
 "nbformat_minor": 5
}
