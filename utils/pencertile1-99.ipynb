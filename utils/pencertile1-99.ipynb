{
 "cells": [
  {
   "cell_type": "code",
   "execution_count": 22,
   "metadata": {},
   "outputs": [
    {
     "name": "stdout",
     "output_type": "stream",
     "text": [
      "Minimum pixel value in eroded regions: -506.0044249985367\n",
      "Maximum pixel value in eroded regions: 999.9999997671694\n"
     ]
    }
   ],
   "source": [
    "import os\n",
    "import numpy as np\n",
    "import nibabel as nib\n",
    "from scipy.ndimage import binary_erosion\n",
    "import matplotlib.pyplot as plt\n",
    "\n",
    "def find_nii_files_with_labels(directory, ct_pattern=\"ct.nii.gz\", label_pattern=\"coronary_artery.nii.gz\"):\n",
    "    file_pairs = []\n",
    "    for root, dirs, files in os.walk(directory):\n",
    "        for file in files:\n",
    "            if file.endswith(ct_pattern):\n",
    "                ct_file = os.path.join(root, file)\n",
    "                label_file = os.path.join(root, \"segmentations\", label_pattern)\n",
    "                if os.path.exists(label_file):\n",
    "                    file_pairs.append((ct_file, label_file))\n",
    "    return file_pairs\n",
    "\n",
    "def load_and_process_ct_data(ct_file, label_file):\n",
    "    ct_data = nib.load(ct_file).get_fdata()\n",
    "    label_data = nib.load(label_file).get_fdata()\n",
    "    eroded_label_data = binary_erosion(label_data, structure=np.ones((3, 3, 3)))\n",
    "    masked_ct_data = ct_data * eroded_label_data\n",
    "    return masked_ct_data\n",
    "\n",
    "directory = \"/content/drive/MyDrive/ImageCAS\"\n",
    "file_pairs = find_nii_files_with_labels(directory)\n",
    "all_masked_data = []\n",
    "\n",
    "for ct_file, label_file in file_pairs:\n",
    "    masked_data = load_and_process_ct_data(ct_file, label_file)\n",
    "    if np.any(masked_data):\n",
    "        # Append non-zero masked data values to the list for histogram plotting\n",
    "        all_masked_data.extend(masked_data[masked_data!=0])\n",
    "\n",
    "# Plot histogram\n",
    "plt.figure(figsize=(10, 6))\n",
    "plt.hist(all_masked_data, bins=50, color='blue', alpha=0.7)\n",
    "plt.title(\"Frequency Distribution of Masked Pixel Values\")\n",
    "plt.xlabel(\"Pixel Value\")\n",
    "plt.ylabel(\"Frequency\")\n",
    "plt.grid(True)\n",
    "plt.show()"
   ]
  },
  {
   "cell_type": "code",
   "execution_count": 23,
   "metadata": {},
   "outputs": [
    {
     "name": "stdout",
     "output_type": "stream",
     "text": [
      "Minimum pixel value in eroded regions: -226.00137325935066\n",
      "Maximum pixel value in eroded regions: 999.9999997671694\n"
     ]
    }
   ],
   "source": [
    "import os\n",
    "import numpy as np\n",
    "import nibabel as nib\n",
    "from scipy.ndimage import binary_erosion\n",
    "\n",
    "def find_nii_files_with_labels(directory, ct_pattern=\"ct.nii.gz\", label_pattern=\"coronary_artery.nii.gz\"):\n",
    "    \"\"\"\n",
    "    Recursively finds all CT files and their corresponding label files.\n",
    "    \"\"\"\n",
    "    file_pairs = []\n",
    "    for root, dirs, files in os.walk(directory):\n",
    "        for file in files:\n",
    "            if file.endswith(ct_pattern):\n",
    "                ct_file = os.path.join(root, file)\n",
    "                label_file = os.path.join(root, \"segmentations\", label_pattern)\n",
    "                if os.path.exists(label_file):\n",
    "                    file_pairs.append((ct_file, label_file))\n",
    "    return file_pairs\n",
    "\n",
    "def load_and_process_ct_data(ct_file, label_file):\n",
    "    \"\"\"\n",
    "    Loads a CT file and its corresponding label file, masks the CT data where the label > 0.5,\n",
    "    and performs an erosion operation.\n",
    "    \"\"\"\n",
    "    ct_data = nib.load(ct_file).get_fdata()\n",
    "    label_data = nib.load(label_file).get_fdata()\n",
    "\n",
    "    # Perform binary erosion on the label data\n",
    "    eroded_label_data = binary_erosion(label_data, structure=np.ones((4, 4, 4)))\n",
    "\n",
    "    # Mask the CT data where the eroded label is 1\n",
    "    masked_ct_data = ct_data * eroded_label_data\n",
    "    return masked_ct_data\n",
    "\n",
    "# Define the directory where to look for files\n",
    "directory = \"/home/yujie/imagecas/ImageCAS\"\n",
    "\n",
    "# Find all ct.nii.gz files and their corresponding label files\n",
    "file_pairs = find_nii_files_with_labels(directory)\n",
    "min_val = np.inf\n",
    "max_val = -np.inf\n",
    "for ct_file, label_file in file_pairs:\n",
    "    masked_data = load_and_process_ct_data(ct_file, label_file)\n",
    "    if np.any(masked_data):  # Check if there is any data in the eroded regions\n",
    "        current_min = np.min(masked_data[np.nonzero(masked_data)])\n",
    "        current_max = np.max(masked_data)\n",
    "        min_val = min(min_val, current_min)\n",
    "        max_val = max(max_val, current_max)\n",
    "\n",
    "print(\"Minimum pixel value in eroded regions:\", min_val)\n",
    "print(\"Maximum pixel value in eroded regions:\", max_val)\n"
   ]
  },
  {
   "cell_type": "code",
   "execution_count": 16,
   "metadata": {},
   "outputs": [
    {
     "data": {
      "text/plain": [
       "array([ 0.00000000e+00,  0.00000000e+00,  0.00000000e+00,  0.00000000e+00,\n",
       "        0.00000000e+00,  0.00000000e+00,  0.00000000e+00,  0.00000000e+00,\n",
       "        0.00000000e+00,  0.00000000e+00,  0.00000000e+00,  0.00000000e+00,\n",
       "        0.00000000e+00,  0.00000000e+00,  0.00000000e+00,  0.00000000e+00,\n",
       "        0.00000000e+00,  0.00000000e+00,  0.00000000e+00,  0.00000000e+00,\n",
       "        0.00000000e+00,  0.00000000e+00,  0.00000000e+00,  8.56612497e+03,\n",
       "        3.04291142e+04,  7.44239109e+04,  1.20788296e+05,  1.88272328e+05,\n",
       "        2.74317403e+05,  3.19137224e+05,  3.23272862e+05,  3.01639933e+05,\n",
       "        2.56726986e+05,  1.95893492e+05,  1.17702235e+05,  8.91382467e+04,\n",
       "        9.20364080e+04,  9.64041657e+04,  9.05629969e+04,  8.10286412e+04,\n",
       "        7.41032425e+04,  6.91937133e+04,  7.24089265e+04,  7.87331960e+04,\n",
       "        7.53703517e+04,  7.15032425e+04,  7.60952163e+04,  8.17831235e+04,\n",
       "        1.04553353e+05,  1.34187610e+05,  1.50272526e+05,  1.42910506e+05,\n",
       "        1.24275181e+05,  1.22956558e+05,  1.36333455e+05,  1.56268070e+05,\n",
       "        1.70874250e+05,  1.66280140e+05,  1.54100313e+05,  1.36479179e+05,\n",
       "        1.28444388e+05,  1.12532723e+05,  1.00475227e+05,  9.57276875e+04,\n",
       "        1.05276509e+05,  1.31321141e+05,  1.71045380e+05,  2.05558160e+05,\n",
       "        2.35228519e+05,  2.55425284e+05,  2.19178149e+05,  1.92883253e+05,\n",
       "        1.74200351e+05,  1.62588098e+05,  1.53804929e+05,  1.31019577e+05,\n",
       "        1.19836576e+05,  1.20250309e+05,  1.13834211e+05,  1.05272175e+05,\n",
       "        1.05345159e+05,  1.01284382e+05,  9.74921492e+04,  9.63470969e+04,\n",
       "        9.51218890e+04,  9.48449683e+04,  8.80722820e+04,  8.89110094e+04,\n",
       "        8.62970779e+04,  8.84278324e+04,  8.71800259e+04,  8.45013199e+04,\n",
       "        8.00708324e+04,  8.24531166e+04,  8.27980316e+04,  8.05096971e+04,\n",
       "        8.04712444e+04,  8.52975051e+04,  8.53029526e+04,  8.26971847e+04,\n",
       "        7.73949798e+04,  7.33144274e+04,  7.47662318e+04,  7.16520943e+04,\n",
       "        7.01453422e+04,  7.02438849e+04,  7.01018845e+04,  6.99882963e+04,\n",
       "        6.83129625e+04,  7.21691768e+04,  6.94166323e+04,  6.34532692e+04,\n",
       "        6.30209506e+04,  6.22209506e+04,  6.81043870e+04,  7.71781643e+04,\n",
       "        7.87952697e+04,  7.43477836e+04,  7.32331426e+04,  7.11591363e+04,\n",
       "        7.87191272e+04,  8.58461127e+04,  8.69469596e+04,  8.22381933e+04,\n",
       "        6.80319829e+04,  5.99076676e+04,  5.92102540e+04,  5.78021362e+04,\n",
       "        5.96546883e+04,  7.42899367e+04,  7.80518959e+04,  6.23394827e+04,\n",
       "        4.80070191e+04,  4.91460899e+04,  5.67030442e+04,  5.61390249e+04,\n",
       "        6.13891203e+04,  7.24840314e+04,  6.99939574e+04,  5.90944076e+04,\n",
       "        4.73161364e+04,  4.08400091e+04,  3.88569619e+04,  3.93457999e+04,\n",
       "        4.33370260e+04,  4.37901121e+04,  4.43631800e+04,  4.84830243e+04,\n",
       "        4.86054322e+04,  4.81831083e+04,  4.82118868e+04,  5.21380789e+04,\n",
       "        5.15136644e+04,  4.91312123e+04,  4.79588617e+04,  5.34610513e+04,\n",
       "        6.91411307e+04,  7.15829251e+04,  6.02872663e+04,  4.83841459e+04,\n",
       "        4.77010757e+04,  5.08623789e+04,  5.94222476e+04,  8.66150606e+04,\n",
       "        1.08225299e+05,  1.26256199e+05,  1.27780270e+05,  1.14680079e+05,\n",
       "        1.18185244e+05,  1.16676142e+05,  1.21935286e+05,  1.22772976e+05,\n",
       "        1.21604974e+05,  1.23545342e+05,  1.30119615e+05,  1.34697734e+05,\n",
       "        1.40657160e+05,  1.52673182e+05,  1.70878294e+05,  1.78094377e+05,\n",
       "        1.93220218e+05,  1.99856977e+05,  1.81205295e+05,  1.73667628e+05,\n",
       "        1.75519005e+05,  1.48557061e+05,  1.15874845e+05,  7.31453574e+04,\n",
       "        3.30816358e+04,  1.49407340e+04,  2.16622568e+04,  2.83902342e+04,\n",
       "        3.15641260e+04,  2.51496757e+04,  2.04918898e+04,  2.30550545e+04,\n",
       "        2.57370260e+04,  2.92389715e+04,  4.44970474e+04,  6.44972000e+04,\n",
       "        7.18173342e+04,  7.72971542e+04,  8.82041047e+04,  1.05608179e+05,\n",
       "        8.78186007e+04,  6.30123140e+04,  3.97880217e+04,  1.90160830e+04,\n",
       "        8.68925002e+03,  1.20179293e+04,  1.45510643e+04,  6.33199054e+03,\n",
       "       -2.19496452e+03, -4.68998245e+03, -4.16688792e+03, -4.27095445e+03,\n",
       "       -3.23109789e+02,  8.73798733e+03,  1.72230716e+04,  1.40991379e+04,\n",
       "        7.13092241e+03, -3.11070420e+03, -4.52719921e+03, -5.57308308e+03,\n",
       "       -1.53696498e+03,  0.00000000e+00,  0.00000000e+00,  0.00000000e+00,\n",
       "        0.00000000e+00,  0.00000000e+00,  0.00000000e+00,  0.00000000e+00,\n",
       "        0.00000000e+00,  0.00000000e+00,  0.00000000e+00,  0.00000000e+00,\n",
       "        0.00000000e+00,  0.00000000e+00,  0.00000000e+00,  0.00000000e+00,\n",
       "        0.00000000e+00,  0.00000000e+00,  0.00000000e+00,  0.00000000e+00,\n",
       "        0.00000000e+00,  0.00000000e+00,  0.00000000e+00,  0.00000000e+00,\n",
       "        0.00000000e+00,  0.00000000e+00,  0.00000000e+00,  0.00000000e+00,\n",
       "        0.00000000e+00,  0.00000000e+00,  0.00000000e+00,  0.00000000e+00,\n",
       "        0.00000000e+00,  0.00000000e+00,  0.00000000e+00,  0.00000000e+00,\n",
       "        0.00000000e+00,  0.00000000e+00,  0.00000000e+00,  0.00000000e+00,\n",
       "        0.00000000e+00,  0.00000000e+00,  0.00000000e+00,  0.00000000e+00,\n",
       "        0.00000000e+00,  0.00000000e+00,  0.00000000e+00,  0.00000000e+00,\n",
       "        0.00000000e+00,  0.00000000e+00,  0.00000000e+00])"
      ]
     },
     "execution_count": 16,
     "metadata": {},
     "output_type": "execute_result"
    }
   ],
   "source": [
    "sum(sum(masked_data))"
   ]
  },
  {
   "cell_type": "code",
   "execution_count": 17,
   "metadata": {},
   "outputs": [
    {
     "ename": "NameError",
     "evalue": "name 'merged_data' is not defined",
     "output_type": "error",
     "traceback": [
      "\u001b[0;31m---------------------------------------------------------------------------\u001b[0m",
      "\u001b[0;31mNameError\u001b[0m                                 Traceback (most recent call last)",
      "Cell \u001b[0;32mIn[17], line 8\u001b[0m\n\u001b[1;32m      6\u001b[0m     \u001b[38;5;28;01mfor\u001b[39;00m i, value \u001b[38;5;129;01min\u001b[39;00m \u001b[38;5;28menumerate\u001b[39m(quantiles):\n\u001b[1;32m      7\u001b[0m         \u001b[38;5;28mprint\u001b[39m(\u001b[38;5;124mf\u001b[39m\u001b[38;5;124m\"\u001b[39m\u001b[38;5;132;01m{\u001b[39;00mi\u001b[38;5;132;01m}\u001b[39;00m\u001b[38;5;124mth Percentile: \u001b[39m\u001b[38;5;132;01m{\u001b[39;00mvalue\u001b[38;5;132;01m}\u001b[39;00m\u001b[38;5;124m\"\u001b[39m)\n\u001b[0;32m----> 8\u001b[0m compute_and_print_all_quantiles(\u001b[43mmerged_data\u001b[49m)\n",
      "\u001b[0;31mNameError\u001b[0m: name 'merged_data' is not defined"
     ]
    }
   ],
   "source": [
    "\n",
    "def compute_and_print_all_quantiles(data):\n",
    "    \"\"\"\n",
    "    Computes and prints all integer quantiles from 0% to 100%.\n",
    "    \"\"\"\n",
    "    quantiles = np.percentile(data, range(101))  # Compute all integer percentiles\n",
    "    for i, value in enumerate(quantiles):\n",
    "        print(f\"{i}th Percentile: {value}\")\n",
    "compute_and_print_all_quantiles(merged_data)"
   ]
  }
 ],
 "metadata": {
  "kernelspec": {
   "display_name": "sup",
   "language": "python",
   "name": "python3"
  },
  "language_info": {
   "codemirror_mode": {
    "name": "ipython",
    "version": 3
   },
   "file_extension": ".py",
   "mimetype": "text/x-python",
   "name": "python",
   "nbconvert_exporter": "python",
   "pygments_lexer": "ipython3",
   "version": "3.10.14"
  }
 },
 "nbformat": 4,
 "nbformat_minor": 2
}
